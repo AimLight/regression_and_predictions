{
 "cells": [
  {
   "cell_type": "markdown",
   "metadata": {},
   "source": [
    "# Contents:\n",
    "\n",
    "This notebook contains the following topics:\n",
    "- [Simple Linear Regression](#simple_linear_regression)\n",
    "- [Multiple Linear Regression](#multiple_linear_regression)\n",
    "- [Prediction using Regression](#prediction)\n",
    "- [Factor variables in Regression](#variables)\n",
    "- [Interpreting the Regression Equation](#interpretation)\n",
    "- [Regression Diagnostics - Outliers, Influential values, Correlated errors](#diagnostics)"
   ]
  },
  {
   "cell_type": "markdown",
   "metadata": {},
   "source": [
    "# Linear Regression\n",
    "\n",
    "- study the relationship between two quantitative (continuous) variables\n",
    "- predict the value of an outcome variable based on one or more input predictor variable(s)\n",
    "- assumes that the relationship is linear\n",
    "\n",
    "The aim is to establish a linear relationship (a mathematical formula) between the predictor variable(s) and the response variable, so that, we can use this formula to estimate the value of the response (outcome ot dependent) variable $y$, when only the predictors (explanatory or independent variables) $x$ values are known.\n",
    "\n",
    "Let's define variables: \n",
    "- observed responses, $y_i$; \n",
    "- predictor values, $x_i$; \n",
    "- predicted responses, $\\widehat{y}_i$; \n",
    "\n",
    "The best fitted line - one which minimizes the sum of the prediction errors/residuals, i.e., minimizes $$\\sum_{i=0}^n e_i = \\sum_{i=0}^n (y_i - \\widehat{y}_i)^2$$ when there are $n$ data points.\n",
    "\n",
    "Given a data set of $n$ statistical units, $$\\{y_{i},\\,x_{i1},\\ldots ,x_{ip}\\}_{i=1}^{n},$$ the linear model with $p$-vector of predictors $x$ is: $$ \\widehat{y}_{i}=\\beta _{0}+\\beta _{1}x_{i1}+\\cdots +\\beta _{p}x_{ip}+ e_{i} = \\mathbf{x}_{i}^{\\mathsf {T}}{\\boldsymbol {\\beta }} + e_{i},\\qquad i=1,\\ldots ,n,$$\n",
    "\n",
    "where $\\mathbf{x}_{i}^{\\mathsf {T}} \\beta$ is the inner product between vectors $\\mathbf{x}_i$ and $\\boldsymbol {\\beta}$ and $e$ is the error variable, an unobserved random variable that adds 'noise' to the linear relationship.\n",
    "\n",
    "\n",
    "In matrix notation,\n",
    "$${\\bf{\\widehat{y}} = X} {\\boldsymbol{\\beta}} + {\\bf{e}}$$\n",
    "where,\n",
    "\n",
    "$$ {\\bf{\\widehat{y}}} = \\begin{pmatrix} y_1 \\\\ y_2 \\\\.\\\\.\\\\.\\\\ y_n \\end{pmatrix},  \\qquad\n",
    "{\\boldsymbol {\\beta}} = \\begin{pmatrix} \\beta_0 \\\\ \\beta_1 \\\\ \\beta_2 \\\\.\\\\.\\\\.\\\\ \\beta_p \\end{pmatrix}, \\qquad\n",
    "{\\bf{e}} = \\begin{pmatrix} e_1 \\\\ e_2 \\\\.\\\\.\\\\.\\\\ e_n \\end{pmatrix}$$\n",
    "\n",
    "$${\\bf{X}} = \\begin{pmatrix} \\bf{x}_1^{\\mathsf{T}} \\\\ \\bf{x}_2^{\\mathsf{T}} \\\\.\\\\.\\\\.\\\\ \\bf{x}_n^{\\mathsf{T}} \\end{pmatrix}\n",
    "= \\begin{pmatrix} 1 & x_{11} & \\ldots & x_{1p} \\\\ 1 & x_{21} & \\ldots & x_{2p} \\\\. & . & \\ldots & .\\\\. & . & \\ldots & .\\\\. & . & \\ldots & .\n",
    "\\\\ 1 & x_{n1} & \\ldots & x_{np} \\end{pmatrix}$$"
   ]
  },
  {
   "cell_type": "markdown",
   "metadata": {},
   "source": [
    "<a id = 'simple_linear_regression'></a>"
   ]
  },
  {
   "cell_type": "markdown",
   "metadata": {},
   "source": [
    "## Simple Linear Regression\n",
    "Simple linear regression attempts to model the data in the form of the best fitting line:\n",
    "$$\\widehat{y}_i = \\beta_0 + \\beta_1 x_i + e_i \\qquad i = 1,..., n$$\n",
    "\n",
    "Minimization $\\rightarrow$ take derivatives of $\\sum_{i=1}^n e_i$ w.r.t $\\beta_0$ and $\\beta_1$, set to 0 and solve for $\\beta_0$ and $\\beta_1$.\n",
    "$$\\beta_0 = \\overline{y} - \\beta_1 \\overline{x}$$\n",
    "\n",
    "$$\\beta_1 = \\frac{\\sum_{i=1}^n (x_i - \\overline{x} )(y_i - \\overline{y} )}{\\sum_{i=1}^n (x_i - \\overline{x})^2}$$\n",
    "where, \n",
    "- $\\overline{x}$ is the mean of all of the x-values\n",
    "- $\\overline{y}$ is the mean of all of the y-values\n",
    "\n",
    "$\\beta_0$ tells the estimated regression equation at $x = 0$, if the 'scope of the model' includes $x = 0$, otherwise, $\\beta_0$ is not meaningful.\n",
    "$\\beta_1$ is the amount by which the mean response may vary for every one unit increase in $x$."
   ]
  },
  {
   "cell_type": "markdown",
   "metadata": {},
   "source": [
    "<a id = 'multiple_linear_regression'></a>"
   ]
  },
  {
   "cell_type": "markdown",
   "metadata": {},
   "source": [
    "## Multiple Linear Regression\n",
    "\n",
    "Multiple linear regression"
   ]
  },
  {
   "cell_type": "markdown",
   "metadata": {},
   "source": [
    "<a id = 'prediction'></a>"
   ]
  },
  {
   "cell_type": "markdown",
   "metadata": {},
   "source": [
    "## Prediction Using Regression\n",
    "\n",
    "In R, lm() function creates the relationship model between the predictor and the response variable\n",
    "\n",
    "lm(formula,data) is the syntax for the function, where the parameters used -\n",
    "\n",
    "- formula is a symbol presenting the relation between x and y.\n",
    "\n",
    "- data is the vector on which the formula will be applied.\n",
    "\n",
    "\n",
    "predict(object, newdata) is the syntax for predict() in linear regression, where the parameters used −\n",
    "\n",
    "- object is the formula which is already created using the lm() function.\n",
    "\n",
    "- newdata is the vector containing the new value for predictor variable."
   ]
  },
  {
   "cell_type": "markdown",
   "metadata": {},
   "source": [
    "### Random Data "
   ]
  },
  {
   "cell_type": "code",
   "execution_count": 14,
   "metadata": {},
   "outputs": [],
   "source": [
    "# Generate some random data points as dependent variable (y) and independent variable (x)\n",
    "x = c(151, 174, 138, 183, 128, 136, 177, 163, 152, 131)\n",
    "y = c(61, 81, 56, 91, 47, 55, 76, 72, 62, 58)"
   ]
  },
  {
   "cell_type": "code",
   "execution_count": 15,
   "metadata": {},
   "outputs": [
    {
     "name": "stdout",
     "output_type": "stream",
     "text": [
      "\n",
      "Call:\n",
      "lm(formula = y ~ x)\n",
      "\n",
      "Coefficients:\n",
      "(Intercept)            x  \n",
      "   -33.6876       0.6496  \n",
      "\n"
     ]
    }
   ],
   "source": [
    "relation <- lm(y~x)\n",
    "\n",
    "print(relation)"
   ]
  },
  {
   "cell_type": "code",
   "execution_count": 16,
   "metadata": {},
   "outputs": [
    {
     "data": {
      "image/png": "[encoded data removed]",
      "text/plain": [
       "Plot with title \"Linear Regression Example\""
      ]
     },
     "metadata": {},
     "output_type": "display_data"
    }
   ],
   "source": [
    "# Plot the relation\n",
    "\n",
    "plot(x, y, col = 'blue', main = 'Linear Regression Example', \n",
    "abline(lm(y~x)),cex = 1, pch = 16, xlab = 'x', ylab = 'y')"
   ]
  },
  {
   "cell_type": "code",
   "execution_count": 55,
   "metadata": {},
   "outputs": [
    {
     "name": "stdout",
     "output_type": "stream",
     "text": [
      "\n",
      "Call:\n",
      "lm(formula = y ~ x)\n",
      "\n",
      "Residuals:\n",
      "   Min     1Q Median     3Q    Max \n",
      "-5.296 -2.908 -0.081  1.324  6.587 \n",
      "\n",
      "Coefficients:\n",
      "             Estimate Std. Error t value Pr(>|t|)    \n",
      "(Intercept) -33.68758   10.51423  -3.204   0.0125 *  \n",
      "x             0.64963    0.06806   9.545  1.2e-05 ***\n",
      "---\n",
      "Signif. codes:  0 '***' 0.001 '**' 0.01 '*' 0.05 '.' 0.1 ' ' 1\n",
      "\n",
      "Residual standard error: 4.109 on 8 degrees of freedom\n",
      "Multiple R-squared:  0.9193,\tAdjusted R-squared:  0.9092 \n",
      "F-statistic:  91.1 on 1 and 8 DF,  p-value: 1.201e-05\n",
      "\n"
     ]
    }
   ],
   "source": [
    "print(summary(relation))"
   ]
  },
  {
   "cell_type": "code",
   "execution_count": 63,
   "metadata": {},
   "outputs": [
    {
     "name": "stdout",
     "output_type": "stream",
     "text": [
      "        1         2         3 \n",
      "-25.89207  11.13658  57.25998 \n"
     ]
    }
   ],
   "source": [
    "new_data = data.frame(x = c(12, 69, 140))\n",
    "result = predict(relation, new_data)\n",
    "print(result)"
   ]
  },
  {
   "cell_type": "markdown",
   "metadata": {},
   "source": [
    "## Longley’s Economic Regression Data\n",
    "Description: It contains 7 economic variables observed from 1947 to 1962 which are used to predict the number of people employed yearly.\n",
    "\n",
    "- GNP: Gross National Product.\n",
    "- Unemployed: number of unemployed.\n",
    "- Armed.Forces: number of people in the armed forces.\n",
    "- Population: 'noninstitutionalized' population >= 14 years of age.\n",
    "- Year: Year\n",
    "- Employed: number of people employed.\n",
    "\n",
    "Dimensions: 16 instances, 7 attributes\n",
    "\n",
    "Inputs: Numeric\n",
    "\n",
    "Output: Numeric\n",
    "\n",
    "Optional: [Download Data from Kaggle](https://www.kaggle.com/ukveteran/longleys-economic-regression-data)"
   ]
  },
  {
   "cell_type": "code",
   "execution_count": 4,
   "metadata": {},
   "outputs": [],
   "source": [
    "# load data\n",
    "data(longley)"
   ]
  },
  {
   "cell_type": "code",
   "execution_count": 5,
   "metadata": {},
   "outputs": [
    {
     "name": "stdout",
     "output_type": "stream",
     "text": [
      "'data.frame':\t16 obs. of  7 variables:\n",
      " $ GNP.deflator: num  83 88.5 88.2 89.5 96.2 ...\n",
      " $ GNP         : num  234 259 258 285 329 ...\n",
      " $ Unemployed  : num  236 232 368 335 210 ...\n",
      " $ Armed.Forces: num  159 146 162 165 310 ...\n",
      " $ Population  : num  108 109 110 111 112 ...\n",
      " $ Year        : int  1947 1948 1949 1950 1951 1952 1953 1954 1955 1956 ...\n",
      " $ Employed    : num  60.3 61.1 60.2 61.2 63.2 ...\n"
     ]
    }
   ],
   "source": [
    "# Examine structure and variable types\n",
    "str(longley)"
   ]
  },
  {
   "cell_type": "code",
   "execution_count": 6,
   "metadata": {},
   "outputs": [
    {
     "data": {
      "text/html": [
       "<table>\n",
       "<thead><tr><th></th><th scope=col>GNP.deflator</th><th scope=col>GNP</th><th scope=col>Unemployed</th><th scope=col>Armed.Forces</th><th scope=col>Population</th><th scope=col>Year</th><th scope=col>Employed</th></tr></thead>\n",
       "<tbody>\n",
       "\t<tr><th scope=row>1947</th><td>83.0   </td><td>234.289</td><td>235.6  </td><td>159.0  </td><td>107.608</td><td>1947   </td><td>60.323 </td></tr>\n",
       "\t<tr><th scope=row>1948</th><td>88.5   </td><td>259.426</td><td>232.5  </td><td>145.6  </td><td>108.632</td><td>1948   </td><td>61.122 </td></tr>\n",
       "\t<tr><th scope=row>1949</th><td>88.2   </td><td>258.054</td><td>368.2  </td><td>161.6  </td><td>109.773</td><td>1949   </td><td>60.171 </td></tr>\n",
       "\t<tr><th scope=row>1950</th><td>89.5   </td><td>284.599</td><td>335.1  </td><td>165.0  </td><td>110.929</td><td>1950   </td><td>61.187 </td></tr>\n",
       "\t<tr><th scope=row>1951</th><td>96.2   </td><td>328.975</td><td>209.9  </td><td>309.9  </td><td>112.075</td><td>1951   </td><td>63.221 </td></tr>\n",
       "\t<tr><th scope=row>1952</th><td>98.1   </td><td>346.999</td><td>193.2  </td><td>359.4  </td><td>113.270</td><td>1952   </td><td>63.639 </td></tr>\n",
       "</tbody>\n",
       "</table>\n"
      ],
      "text/latex": [
       "\\begin{tabular}{r|lllllll}\n",
       "  & GNP.deflator & GNP & Unemployed & Armed.Forces & Population & Year & Employed\\\\\n",
       "\\hline\n",
       "\t1947 & 83.0    & 234.289 & 235.6   & 159.0   & 107.608 & 1947    & 60.323 \\\\\n",
       "\t1948 & 88.5    & 259.426 & 232.5   & 145.6   & 108.632 & 1948    & 61.122 \\\\\n",
       "\t1949 & 88.2    & 258.054 & 368.2   & 161.6   & 109.773 & 1949    & 60.171 \\\\\n",
       "\t1950 & 89.5    & 284.599 & 335.1   & 165.0   & 110.929 & 1950    & 61.187 \\\\\n",
       "\t1951 & 96.2    & 328.975 & 209.9   & 309.9   & 112.075 & 1951    & 63.221 \\\\\n",
       "\t1952 & 98.1    & 346.999 & 193.2   & 359.4   & 113.270 & 1952    & 63.639 \\\\\n",
       "\\end{tabular}\n"
      ],
      "text/markdown": [
       "\n",
       "| <!--/--> | GNP.deflator | GNP | Unemployed | Armed.Forces | Population | Year | Employed |\n",
       "|---|---|---|---|---|---|---|---|\n",
       "| 1947 | 83.0    | 234.289 | 235.6   | 159.0   | 107.608 | 1947    | 60.323  |\n",
       "| 1948 | 88.5    | 259.426 | 232.5   | 145.6   | 108.632 | 1948    | 61.122  |\n",
       "| 1949 | 88.2    | 258.054 | 368.2   | 161.6   | 109.773 | 1949    | 60.171  |\n",
       "| 1950 | 89.5    | 284.599 | 335.1   | 165.0   | 110.929 | 1950    | 61.187  |\n",
       "| 1951 | 96.2    | 328.975 | 209.9   | 309.9   | 112.075 | 1951    | 63.221  |\n",
       "| 1952 | 98.1    | 346.999 | 193.2   | 359.4   | 113.270 | 1952    | 63.639  |\n",
       "\n"
      ],
      "text/plain": [
       "     GNP.deflator GNP     Unemployed Armed.Forces Population Year Employed\n",
       "1947 83.0         234.289 235.6      159.0        107.608    1947 60.323  \n",
       "1948 88.5         259.426 232.5      145.6        108.632    1948 61.122  \n",
       "1949 88.2         258.054 368.2      161.6        109.773    1949 60.171  \n",
       "1950 89.5         284.599 335.1      165.0        110.929    1950 61.187  \n",
       "1951 96.2         328.975 209.9      309.9        112.075    1951 63.221  \n",
       "1952 98.1         346.999 193.2      359.4        113.270    1952 63.639  "
      ]
     },
     "metadata": {},
     "output_type": "display_data"
    }
   ],
   "source": [
    "# View the first few lines of the data\n",
    "head(longley)"
   ]
  },
  {
   "cell_type": "code",
   "execution_count": 7,
   "metadata": {},
   "outputs": [
    {
     "data": {
      "text/plain": [
       "  GNP.deflator         GNP          Unemployed     Armed.Forces  \n",
       " Min.   : 83.00   Min.   :234.3   Min.   :187.0   Min.   :145.6  \n",
       " 1st Qu.: 94.53   1st Qu.:317.9   1st Qu.:234.8   1st Qu.:229.8  \n",
       " Median :100.60   Median :381.4   Median :314.4   Median :271.8  \n",
       " Mean   :101.68   Mean   :387.7   Mean   :319.3   Mean   :260.7  \n",
       " 3rd Qu.:111.25   3rd Qu.:454.1   3rd Qu.:384.2   3rd Qu.:306.1  \n",
       " Max.   :116.90   Max.   :554.9   Max.   :480.6   Max.   :359.4  \n",
       "   Population         Year         Employed    \n",
       " Min.   :107.6   Min.   :1947   Min.   :60.17  \n",
       " 1st Qu.:111.8   1st Qu.:1951   1st Qu.:62.71  \n",
       " Median :116.8   Median :1954   Median :65.50  \n",
       " Mean   :117.4   Mean   :1954   Mean   :65.32  \n",
       " 3rd Qu.:122.3   3rd Qu.:1958   3rd Qu.:68.29  \n",
       " Max.   :130.1   Max.   :1962   Max.   :70.55  "
      ]
     },
     "metadata": {},
     "output_type": "display_data"
    }
   ],
   "source": [
    "# Summarize the data set\n",
    "summary(longley)"
   ]
  },
  {
   "cell_type": "markdown",
   "metadata": {},
   "source": [
    "\n",
    "-- mean of the response at each value of the predictor, $x_i$, is a Linear function of the $x_i$.\n",
    "-- errors/residuals, $e_i$, are Independent.\n",
    "-- errors, $e_i$, at each value of $x_i$, are Normally distributed.\n",
    "-- errors, $e_i$, at each value of $x_i$, have Equal variances.\n",
    "-- variance of the residuals/errors must be Constant.\n",
    "-- residuals should be multivariate normally distributed.\n",
    "\n",
    "over-fitting\n",
    "sensitive to outliers\n",
    "valid for normally distributed data\n",
    "computationally expensive, for large data\n",
    "What happens to coefficients $\\beta_0$ and $\\beta_1$ if one of the $x_i$'s are scaled?\n",
    "What happens to coefficients $\\beta_0$ and $\\beta_1$ if all $x_i$'s are scaled? Do they remain same as the original one?\n",
    "How to check if the data is normally distributed?\n",
    "How to check for linear independence of the data?\n",
    "If only one $x_i$ is scaled, then (see example).\n",
    "If all $x_i$'s are scaled, then there is no change in the result (see example).\n"
   ]
  },
  {
   "cell_type": "code",
   "execution_count": 25,
   "metadata": {},
   "outputs": [],
   "source": [
    "# getting the variables \n",
    "\n",
    "longley.x <- data.matrix(longley[, 1:1])\n",
    "longley.y <- longley[, 'Employed']"
   ]
  },
  {
   "cell_type": "markdown",
   "metadata": {},
   "source": [
    "### split the dataset into training and test sets\n",
    "\n",
    "x_train = \n",
    "y_train = "
   ]
  },
  {
   "cell_type": "code",
   "execution_count": 26,
   "metadata": {},
   "outputs": [],
   "source": [
    "model = lm(longley.y~longley.x, data = longley)"
   ]
  },
  {
   "cell_type": "code",
   "execution_count": 27,
   "metadata": {},
   "outputs": [],
   "source": [
    "library(ggplot2)"
   ]
  },
  {
   "cell_type": "code",
   "execution_count": 28,
   "metadata": {},
   "outputs": [
    {
     "name": "stdout",
     "output_type": "stream",
     "text": [
      "\n",
      "Call:\n",
      "lm(formula = longley.y ~ longley.x, data = longley)\n",
      "\n",
      "Coefficients:\n",
      "(Intercept)    longley.x  \n",
      "     33.189        0.316  \n",
      "\n"
     ]
    }
   ],
   "source": [
    "print(model)"
   ]
  },
  {
   "cell_type": "code",
   "execution_count": 31,
   "metadata": {},
   "outputs": [
    {
     "data": {
      "image/png": "[encoded data removed]",
      "text/plain": [
       "plot without title"
      ]
     },
     "metadata": {},
     "output_type": "display_data"
    }
   ],
   "source": [
    "ggplot(data = longley, aes(model$residuals)) +\n",
    "geom_histogram(binwidth = 1, color = 'black', fill = 'grey') +\n",
    "theme(panel.background = element_rect(fill = 'white'),\n",
    "axis.line.x=element_line(),\n",
    "axis.line.y=element_line()) +\n",
    "ggtitle('Histogram for Model Residuals')"
   ]
  },
  {
   "cell_type": "code",
   "execution_count": 29,
   "metadata": {},
   "outputs": [
    {
     "data": {
      "image/png": "[encoded data removed]",
      "text/plain": [
       "plot without title"
      ]
     },
     "metadata": {},
     "output_type": "display_data"
    }
   ],
   "source": [
    "ggplot(data = longley, aes(x = longley.x, y = longley.y)) +\n",
    "geom_point() +\n",
    "stat_smooth(method = 'lm', col = 'dodgerblue3') +\n",
    "theme(panel.background = element_rect(fill = 'white'),\n",
    "axis.line.x=element_line(),\n",
    "axis.line.y=element_line()) +\n",
    "ggtitle('Linear Model Fitted to Data')"
   ]
  },
  {
   "cell_type": "code",
   "execution_count": null,
   "metadata": {},
   "outputs": [],
   "source": []
  },
  {
   "cell_type": "code",
   "execution_count": 5,
   "metadata": {
    "scrolled": false
   },
   "outputs": [
    {
     "data": {
      "text/plain": [
       "\n",
       "Call:\n",
       "lm(formula = Employed ~ ., data = longley)\n",
       "\n",
       "Residuals:\n",
       "     Min       1Q   Median       3Q      Max \n",
       "-0.41011 -0.15767 -0.02816  0.10155  0.45539 \n",
       "\n",
       "Coefficients:\n",
       "               Estimate Std. Error t value Pr(>|t|)    \n",
       "(Intercept)  -3.482e+03  8.904e+02  -3.911 0.003560 ** \n",
       "GNP.deflator  1.506e-02  8.492e-02   0.177 0.863141    \n",
       "GNP          -3.582e-02  3.349e-02  -1.070 0.312681    \n",
       "Unemployed   -2.020e-02  4.884e-03  -4.136 0.002535 ** \n",
       "Armed.Forces -1.033e-02  2.143e-03  -4.822 0.000944 ***\n",
       "Population   -5.110e-02  2.261e-01  -0.226 0.826212    \n",
       "Year          1.829e+00  4.555e-01   4.016 0.003037 ** \n",
       "---\n",
       "Signif. codes:  0 '***' 0.001 '**' 0.01 '*' 0.05 '.' 0.1 ' ' 1\n",
       "\n",
       "Residual standard error: 0.3049 on 9 degrees of freedom\n",
       "Multiple R-squared:  0.9955,\tAdjusted R-squared:  0.9925 \n",
       "F-statistic: 330.3 on 6 and 9 DF,  p-value: 4.984e-10\n"
      ]
     },
     "metadata": {},
     "output_type": "display_data"
    },
    {
     "data": {
      "image/png": "[encoded data removed]",
      "text/plain": [
       "plot without title"
      ]
     },
     "metadata": {},
     "output_type": "display_data"
    },
    {
     "data": {
      "image/png": "[encoded data removed]",
      "text/plain": [
       "Plot with title \"\""
      ]
     },
     "metadata": {},
     "output_type": "display_data"
    }
   ],
   "source": [
    "\n",
    "pairs(longley, main = \"longley data\")\n",
    "summary(fm1 <- lm(Employed ~ ., data = longley))\n",
    "opar <- par(mfrow = c(2, 2), oma = c(0, 0, 1.1, 0),\n",
    "            mar = c(4.1, 4.1, 2.1, 1.1))\n",
    "plot(fm1)\n",
    "par(opar)"
   ]
  },
  {
   "cell_type": "code",
   "execution_count": null,
   "metadata": {},
   "outputs": [],
   "source": []
  }
 ],
 "metadata": {
  "kernelspec": {
   "display_name": "R",
   "language": "R",
   "name": "ir"
  },
  "language_info": {
   "codemirror_mode": "r",
   "file_extension": ".r",
   "mimetype": "text/x-r-source",
   "name": "R",
   "pygments_lexer": "r",
   "version": "3.6.1"
  }
 },
 "nbformat": 4,
 "nbformat_minor": 4
}
