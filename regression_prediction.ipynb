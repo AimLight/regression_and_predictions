{
 "cells": [
  {
   "cell_type": "markdown",
   "metadata": {},
   "source": [
    "Study relationships between two continuous (quantitative) variables.\n",
    "\n",
    "One variable, denoted $x$, is regarded as the predictor, explanatory, or independent variable.\n",
    "\n",
    "Other variable, denoted $y$, is regarded as the response, outcome, or dependent variable.\n",
    "\n",
    "Define variables: observed responses, $y_i$; predictor values, $x_i$; predicted responses, $\\widehat{y}_i$; mean of all of the x-values, $\\overline{x}$; mean of all of the y-values, $\\overline{y}$.\n",
    "Equation for the best fitting line is $\\widehat{y}_i = \\beta_0 + \\beta_1 x_i$.\n",
    "Best fitted line - one which minimizes the sum of the prediction errors/residuals, i.e., minimizes $\\sum_{i=0}^n e_i = \\sum_{i=0}^n (y_i - \\widehat{y}_i)^2$ when there are $n$ data points.\n",
    "Minimization $\\rightarrow$ take derivatives of $\\sum_{i=1}^n e_i$ w.r.t $\\beta_0$ and $\\beta_1$, set to 0 and solve for $\\beta_0$ and $\\beta_1$.\n",
    "## $\\beta_0 = \\overline{y} - \\beta_1 \\overline{x}$\n",
    "## $\\beta_1 = \\frac{\\sum_{i=1}^n (x_i - \\overline{x} )(y_i - \\overline{y} )}{\\sum_{i=1}^n (x_i - \\overline{x})^2}$\n",
    "$\\beta_0$ tells the estimated regression equation at $x = 0$, if the 'scope of the model' includes $x = 0$, otherwise, $\\beta_0$ is not meaningful.\n",
    "$\\beta_1$ is the amount by which the mean response may vary for every one unit increase in $x$.\n",
    "-- mean of the response at each value of the predictor, $x_i$, is a Linear function of the $x_i$.\n",
    "-- errors/residuals, $e_i$, are Independent.\n",
    "-- errors, $e_i$, at each value of $x_i$, are Normally distributed.\n",
    "-- errors, $e_i$, at each value of $x_i$, have Equal variances.\n",
    "-- variance of the residuals/errors must be Constant.\n",
    "-- residuals should be multivariate normally distributed.\n",
    "\n",
    "over-fitting\n",
    "sensitive to outliers\n",
    "valid for normally distributed data\n",
    "computationally expensive, for large data\n",
    "What happens to coefficients $\\beta_0$ and $\\beta_1$ if one of the $x_i$'s are scaled?\n",
    "What happens to coefficients $\\beta_0$ and $\\beta_1$ if all $x_i$'s are scaled? Do they remain same as the original one?\n",
    "How to check if the data is normally distributed?\n",
    "How to check for linear independence of the data?\n",
    "If only one $x_i$ is scaled, then (see example).\n",
    "If all $x_i$'s are scaled, then there is no change in the result (see example).\n"
   ]
  },
  {
   "cell_type": "code",
   "execution_count": null,
   "metadata": {},
   "outputs": [],
   "source": []
  }
 ],
 "metadata": {
  "kernelspec": {
   "display_name": "R",
   "language": "R",
   "name": "ir"
  },
  "language_info": {
   "codemirror_mode": "r",
   "file_extension": ".r",
   "mimetype": "text/x-r-source",
   "name": "R",
   "pygments_lexer": "r",
   "version": "3.6.1"
  }
 },
 "nbformat": 4,
 "nbformat_minor": 4
}
